{
  "cells": [
    {
      "cell_type": "markdown",
      "source": [
        "# 🧪 CIFAR-100 Image Classification\n",
        "\n",
        "Train and evaluate Convolutional Neural Networks (CNNs) and optional transfer learning models on the CIFAR-100 dataset.  \n",
        "This notebook is structured for clarity, reproducibility, and GitHub-readiness.\n"
      ],
      "metadata": {
        "id": "N0rhfCV9pg8q"
      },
      "id": "N0rhfCV9pg8q"
    },
    {
      "cell_type": "markdown",
      "id": "da2d7639",
      "metadata": {
        "id": "da2d7639"
      },
      "source": [
        "## 📦 Imports"
      ]
    },
    {
      "cell_type": "code",
      "execution_count": 1,
      "id": "86cd3439",
      "metadata": {
        "id": "86cd3439"
      },
      "outputs": [],
      "source": [
        "# ============================================================\n",
        "# 📦 Imports\n",
        "# ============================================================\n",
        "import os, random, sys, json\n",
        "import numpy as np\n",
        "import tensorflow as tf\n",
        "import matplotlib.pyplot as plt\n",
        "from sklearn.metrics import classification_report, confusion_matrix, accuracy_score\n",
        "\n",
        "from tensorflow.keras import layers, models, callbacks, optimizers, losses, metrics, regularizers\n",
        "from tensorflow.keras.datasets import cifar100\n",
        "from tensorflow.keras.utils import to_categorical\n"
      ]
    },
    {
      "cell_type": "code",
      "source": [
        "# ============================================================\n",
        "# 🔄 Reproducibility\n",
        "# ============================================================\n",
        "SEED = 42\n",
        "random.seed(SEED)\n",
        "np.random.seed(SEED)\n",
        "tf.random.set_seed(SEED)\n",
        "\n",
        "print(\"Python:\", sys.version)\n",
        "print(\"TensorFlow:\", tf.__version__)\n",
        "print(\"GPU Available:\", tf.config.list_physical_devices('GPU'))\n"
      ],
      "metadata": {
        "colab": {
          "base_uri": "https://localhost:8080/"
        },
        "id": "_s0_z71bkPtz",
        "outputId": "e790e6e6-e84b-42f5-9446-ac5404abe2bd"
      },
      "id": "_s0_z71bkPtz",
      "execution_count": 2,
      "outputs": [
        {
          "output_type": "stream",
          "name": "stdout",
          "text": [
            "Python: 3.12.11 (main, Jun  4 2025, 08:56:18) [GCC 11.4.0]\n",
            "TensorFlow: 2.19.0\n",
            "GPU Available: [PhysicalDevice(name='/physical_device:GPU:0', device_type='GPU')]\n"
          ]
        }
      ]
    },
    {
      "cell_type": "code",
      "source": [
        "# ============================================================\n",
        "# ⚙️ Training Configuration\n",
        "# ============================================================\n",
        "CONFIG = {\n",
        "    \"model_type\": \"cnn\",   # \"cnn\" | \"resnet50\" | \"efficientnetv2b0\"\n",
        "    \"freeze_epochs\": 3,\n",
        "    \"finetune_epochs\": 20,\n",
        "    \"batch_size\": 128,\n",
        "    \"epochs\": 30,          # used for CNN only\n",
        "    \"learning_rate\": 1e-3,\n",
        "    \"l2\": 1e-4,\n",
        "    \"apply_l2_to_convs\": False,\n",
        "    \"optimizer\": \"adamw\",  # \"adam\" | \"adamw\" | \"sgd\"\n",
        "    \"weight_decay\": 1e-4,\n",
        "    \"momentum\": 0.9,\n",
        "    \"dropout\": 0.4,\n",
        "    \"input_shape\": (32, 32, 3),\n",
        "    \"num_classes\": 100,\n",
        "}"
      ],
      "metadata": {
        "id": "NcAJVv7QkYOe"
      },
      "id": "NcAJVv7QkYOe",
      "execution_count": 3,
      "outputs": []
    },
    {
      "cell_type": "markdown",
      "id": "4fdfcac9",
      "metadata": {
        "id": "4fdfcac9"
      },
      "source": [
        "## 📥 Load & Preprocess CIFAR-100"
      ]
    },
    {
      "cell_type": "code",
      "execution_count": 4,
      "id": "2603651e",
      "metadata": {
        "colab": {
          "base_uri": "https://localhost:8080/"
        },
        "id": "2603651e",
        "outputId": "10013a70-f91f-4f59-ab99-dc302c6e555e"
      },
      "outputs": [
        {
          "output_type": "stream",
          "name": "stdout",
          "text": [
            "Downloading data from https://www.cs.toronto.edu/~kriz/cifar-100-python.tar.gz\n",
            "\u001b[1m169001437/169001437\u001b[0m \u001b[32m━━━━━━━━━━━━━━━━━━━━\u001b[0m\u001b[37m\u001b[0m \u001b[1m14s\u001b[0m 0us/step\n",
            "Train: (50000, 32, 32, 3) (50000, 100)  Test: (10000, 32, 32, 3) (10000, 100)\n"
          ]
        }
      ],
      "source": [
        "# ============================================================\n",
        "# 📥 Load & Preprocess CIFAR-100\n",
        "# ============================================================\n",
        "def get_data(one_hot=True):\n",
        "    (x_train, y_train), (x_test, y_test) = cifar100.load_data(label_mode='fine')\n",
        "    x_train, x_test = x_train.astype(\"float32\") / 255.0, x_test.astype(\"float32\") / 255.0\n",
        "    if one_hot:\n",
        "        y_train, y_test = to_categorical(y_train, 100), to_categorical(y_test, 100)\n",
        "    return (x_train, y_train), (x_test, y_test)\n",
        "\n",
        "(x_train, y_train), (x_test, y_test) = get_data(one_hot=True)\n",
        "print(\"Train:\", x_train.shape, y_train.shape, \" Test:\", x_test.shape, y_test.shape)"
      ]
    },
    {
      "cell_type": "markdown",
      "source": [
        "## 🎭 CIFAR-100 Class Labels\n",
        "Useful for mapping predictions to human-readable names.\n"
      ],
      "metadata": {
        "id": "GPoHsyYtklWw"
      },
      "id": "GPoHsyYtklWw"
    },
    {
      "cell_type": "code",
      "source": [
        "CIFAR100_LABELS = [\n",
        "    'apple','aquarium_fish','baby','bear','beaver','bed','bee','beetle','bicycle','bottle',\n",
        "    'bowl','boy','bridge','bus','butterfly','camel','can','castle','caterpillar','cattle',\n",
        "    'chair','chimpanzee','clock','cloud','cockroach','couch','crab','crocodile','cup','dinosaur',\n",
        "    'dolphin','elephant','flatfish','forest','fox','girl','hamster','house','kangaroo','computer_keyboard',\n",
        "    'lamp','lawn_mower','leopard','lion','lizard','lobster','man','maple_tree','motorcycle','mountain',\n",
        "    'mouse','mushroom','oak_tree','orange','orchid','otter','palm_tree','pear','pickup_truck','pine_tree',\n",
        "    'plain','plate','poppy','porcupine','possum','rabbit','raccoon','ray','road','rocket',\n",
        "    'rose','sea','seal','shark','shrew','skunk','skyscraper','snail','snake','spider',\n",
        "    'squirrel','streetcar','sunflower','sweet_pepper','table','tank','telephone','television','tiger','tractor',\n",
        "    'train','trout','tulip','turtle','wardrobe','whale','willow_tree','wolf','woman','worm'\n",
        "]"
      ],
      "metadata": {
        "id": "S5Mtrxe_kn_e"
      },
      "id": "S5Mtrxe_kn_e",
      "execution_count": 5,
      "outputs": []
    },
    {
      "cell_type": "markdown",
      "id": "d08f350c",
      "metadata": {
        "id": "d08f350c"
      },
      "source": [
        "## 🌀 (Optional) Data Augmentation"
      ]
    },
    {
      "cell_type": "code",
      "execution_count": 6,
      "id": "e9e710d3",
      "metadata": {
        "id": "e9e710d3"
      },
      "outputs": [],
      "source": [
        "data_augmentation = models.Sequential([\n",
        "    layers.RandomFlip(\"horizontal\"),\n",
        "    layers.RandomRotation(0.05),\n",
        "    layers.RandomZoom(0.1),\n",
        "], name=\"data_augmentation\")"
      ]
    },
    {
      "cell_type": "markdown",
      "id": "09ec6284",
      "metadata": {
        "id": "09ec6284"
      },
      "source": [
        "## 🧠 Build the CNN Model"
      ]
    },
    {
      "cell_type": "code",
      "execution_count": 7,
      "id": "16be2a9c",
      "metadata": {
        "id": "16be2a9c"
      },
      "outputs": [],
      "source": [
        "def build_model(num_classes=100, input_shape=(32, 32, 3), cfg=CONFIG):\n",
        "    inputs = layers.Input(shape=input_shape)\n",
        "    x = data_augmentation(inputs)\n",
        "\n",
        "    for f in [32, 64, 128]:\n",
        "        x = layers.Conv2D(f, 3, padding=\"same\", activation=\"relu\")(x)\n",
        "        x = layers.Conv2D(f, 3, padding=\"same\", activation=\"relu\")(x)\n",
        "        x = layers.MaxPooling2D(2)(x)\n",
        "        x = layers.Dropout(0.25)(x)\n",
        "\n",
        "    x = layers.Flatten()(x)\n",
        "    x = layers.Dense(256, activation=\"relu\",\n",
        "                     kernel_regularizer=regularizers.l2(cfg[\"l2\"]))(x)\n",
        "    x = layers.Dropout(cfg[\"dropout\"])(x)\n",
        "    outputs = layers.Dense(num_classes, activation=\"softmax\")(x)\n",
        "\n",
        "    model = models.Model(inputs, outputs, name=\"cifar100_cnn\")\n",
        "    return model"
      ]
    },
    {
      "cell_type": "markdown",
      "id": "b614886f",
      "metadata": {
        "id": "b614886f"
      },
      "source": [
        "## ⚡ Compile Model\n"
      ]
    },
    {
      "cell_type": "code",
      "execution_count": 8,
      "id": "215cc577",
      "metadata": {
        "id": "215cc577",
        "colab": {
          "base_uri": "https://localhost:8080/",
          "height": 748
        },
        "outputId": "9ad84f5c-eaaa-42fc-b05a-440283363b21"
      },
      "outputs": [
        {
          "output_type": "display_data",
          "data": {
            "text/plain": [
              "\u001b[1mModel: \"cifar100_cnn\"\u001b[0m\n"
            ],
            "text/html": [
              "<pre style=\"white-space:pre;overflow-x:auto;line-height:normal;font-family:Menlo,'DejaVu Sans Mono',consolas,'Courier New',monospace\"><span style=\"font-weight: bold\">Model: \"cifar100_cnn\"</span>\n",
              "</pre>\n"
            ]
          },
          "metadata": {}
        },
        {
          "output_type": "display_data",
          "data": {
            "text/plain": [
              "┏━━━━━━━━━━━━━━━━━━━━━━━━━━━━━━━━━┳━━━━━━━━━━━━━━━━━━━━━━━━┳━━━━━━━━━━━━━━━┓\n",
              "┃\u001b[1m \u001b[0m\u001b[1mLayer (type)                   \u001b[0m\u001b[1m \u001b[0m┃\u001b[1m \u001b[0m\u001b[1mOutput Shape          \u001b[0m\u001b[1m \u001b[0m┃\u001b[1m \u001b[0m\u001b[1m      Param #\u001b[0m\u001b[1m \u001b[0m┃\n",
              "┡━━━━━━━━━━━━━━━━━━━━━━━━━━━━━━━━━╇━━━━━━━━━━━━━━━━━━━━━━━━╇━━━━━━━━━━━━━━━┩\n",
              "│ input_layer (\u001b[38;5;33mInputLayer\u001b[0m)        │ (\u001b[38;5;45mNone\u001b[0m, \u001b[38;5;34m32\u001b[0m, \u001b[38;5;34m32\u001b[0m, \u001b[38;5;34m3\u001b[0m)      │             \u001b[38;5;34m0\u001b[0m │\n",
              "├─────────────────────────────────┼────────────────────────┼───────────────┤\n",
              "│ data_augmentation (\u001b[38;5;33mSequential\u001b[0m)  │ (\u001b[38;5;45mNone\u001b[0m, \u001b[38;5;34m32\u001b[0m, \u001b[38;5;34m32\u001b[0m, \u001b[38;5;34m3\u001b[0m)      │             \u001b[38;5;34m0\u001b[0m │\n",
              "├─────────────────────────────────┼────────────────────────┼───────────────┤\n",
              "│ conv2d (\u001b[38;5;33mConv2D\u001b[0m)                 │ (\u001b[38;5;45mNone\u001b[0m, \u001b[38;5;34m32\u001b[0m, \u001b[38;5;34m32\u001b[0m, \u001b[38;5;34m32\u001b[0m)     │           \u001b[38;5;34m896\u001b[0m │\n",
              "├─────────────────────────────────┼────────────────────────┼───────────────┤\n",
              "│ conv2d_1 (\u001b[38;5;33mConv2D\u001b[0m)               │ (\u001b[38;5;45mNone\u001b[0m, \u001b[38;5;34m32\u001b[0m, \u001b[38;5;34m32\u001b[0m, \u001b[38;5;34m32\u001b[0m)     │         \u001b[38;5;34m9,248\u001b[0m │\n",
              "├─────────────────────────────────┼────────────────────────┼───────────────┤\n",
              "│ max_pooling2d (\u001b[38;5;33mMaxPooling2D\u001b[0m)    │ (\u001b[38;5;45mNone\u001b[0m, \u001b[38;5;34m16\u001b[0m, \u001b[38;5;34m16\u001b[0m, \u001b[38;5;34m32\u001b[0m)     │             \u001b[38;5;34m0\u001b[0m │\n",
              "├─────────────────────────────────┼────────────────────────┼───────────────┤\n",
              "│ dropout (\u001b[38;5;33mDropout\u001b[0m)               │ (\u001b[38;5;45mNone\u001b[0m, \u001b[38;5;34m16\u001b[0m, \u001b[38;5;34m16\u001b[0m, \u001b[38;5;34m32\u001b[0m)     │             \u001b[38;5;34m0\u001b[0m │\n",
              "├─────────────────────────────────┼────────────────────────┼───────────────┤\n",
              "│ conv2d_2 (\u001b[38;5;33mConv2D\u001b[0m)               │ (\u001b[38;5;45mNone\u001b[0m, \u001b[38;5;34m16\u001b[0m, \u001b[38;5;34m16\u001b[0m, \u001b[38;5;34m64\u001b[0m)     │        \u001b[38;5;34m18,496\u001b[0m │\n",
              "├─────────────────────────────────┼────────────────────────┼───────────────┤\n",
              "│ conv2d_3 (\u001b[38;5;33mConv2D\u001b[0m)               │ (\u001b[38;5;45mNone\u001b[0m, \u001b[38;5;34m16\u001b[0m, \u001b[38;5;34m16\u001b[0m, \u001b[38;5;34m64\u001b[0m)     │        \u001b[38;5;34m36,928\u001b[0m │\n",
              "├─────────────────────────────────┼────────────────────────┼───────────────┤\n",
              "│ max_pooling2d_1 (\u001b[38;5;33mMaxPooling2D\u001b[0m)  │ (\u001b[38;5;45mNone\u001b[0m, \u001b[38;5;34m8\u001b[0m, \u001b[38;5;34m8\u001b[0m, \u001b[38;5;34m64\u001b[0m)       │             \u001b[38;5;34m0\u001b[0m │\n",
              "├─────────────────────────────────┼────────────────────────┼───────────────┤\n",
              "│ dropout_1 (\u001b[38;5;33mDropout\u001b[0m)             │ (\u001b[38;5;45mNone\u001b[0m, \u001b[38;5;34m8\u001b[0m, \u001b[38;5;34m8\u001b[0m, \u001b[38;5;34m64\u001b[0m)       │             \u001b[38;5;34m0\u001b[0m │\n",
              "├─────────────────────────────────┼────────────────────────┼───────────────┤\n",
              "│ conv2d_4 (\u001b[38;5;33mConv2D\u001b[0m)               │ (\u001b[38;5;45mNone\u001b[0m, \u001b[38;5;34m8\u001b[0m, \u001b[38;5;34m8\u001b[0m, \u001b[38;5;34m128\u001b[0m)      │        \u001b[38;5;34m73,856\u001b[0m │\n",
              "├─────────────────────────────────┼────────────────────────┼───────────────┤\n",
              "│ conv2d_5 (\u001b[38;5;33mConv2D\u001b[0m)               │ (\u001b[38;5;45mNone\u001b[0m, \u001b[38;5;34m8\u001b[0m, \u001b[38;5;34m8\u001b[0m, \u001b[38;5;34m128\u001b[0m)      │       \u001b[38;5;34m147,584\u001b[0m │\n",
              "├─────────────────────────────────┼────────────────────────┼───────────────┤\n",
              "│ max_pooling2d_2 (\u001b[38;5;33mMaxPooling2D\u001b[0m)  │ (\u001b[38;5;45mNone\u001b[0m, \u001b[38;5;34m4\u001b[0m, \u001b[38;5;34m4\u001b[0m, \u001b[38;5;34m128\u001b[0m)      │             \u001b[38;5;34m0\u001b[0m │\n",
              "├─────────────────────────────────┼────────────────────────┼───────────────┤\n",
              "│ dropout_2 (\u001b[38;5;33mDropout\u001b[0m)             │ (\u001b[38;5;45mNone\u001b[0m, \u001b[38;5;34m4\u001b[0m, \u001b[38;5;34m4\u001b[0m, \u001b[38;5;34m128\u001b[0m)      │             \u001b[38;5;34m0\u001b[0m │\n",
              "├─────────────────────────────────┼────────────────────────┼───────────────┤\n",
              "│ flatten (\u001b[38;5;33mFlatten\u001b[0m)               │ (\u001b[38;5;45mNone\u001b[0m, \u001b[38;5;34m2048\u001b[0m)           │             \u001b[38;5;34m0\u001b[0m │\n",
              "├─────────────────────────────────┼────────────────────────┼───────────────┤\n",
              "│ dense (\u001b[38;5;33mDense\u001b[0m)                   │ (\u001b[38;5;45mNone\u001b[0m, \u001b[38;5;34m256\u001b[0m)            │       \u001b[38;5;34m524,544\u001b[0m │\n",
              "├─────────────────────────────────┼────────────────────────┼───────────────┤\n",
              "│ dropout_3 (\u001b[38;5;33mDropout\u001b[0m)             │ (\u001b[38;5;45mNone\u001b[0m, \u001b[38;5;34m256\u001b[0m)            │             \u001b[38;5;34m0\u001b[0m │\n",
              "├─────────────────────────────────┼────────────────────────┼───────────────┤\n",
              "│ dense_1 (\u001b[38;5;33mDense\u001b[0m)                 │ (\u001b[38;5;45mNone\u001b[0m, \u001b[38;5;34m100\u001b[0m)            │        \u001b[38;5;34m25,700\u001b[0m │\n",
              "└─────────────────────────────────┴────────────────────────┴───────────────┘\n"
            ],
            "text/html": [
              "<pre style=\"white-space:pre;overflow-x:auto;line-height:normal;font-family:Menlo,'DejaVu Sans Mono',consolas,'Courier New',monospace\">┏━━━━━━━━━━━━━━━━━━━━━━━━━━━━━━━━━┳━━━━━━━━━━━━━━━━━━━━━━━━┳━━━━━━━━━━━━━━━┓\n",
              "┃<span style=\"font-weight: bold\"> Layer (type)                    </span>┃<span style=\"font-weight: bold\"> Output Shape           </span>┃<span style=\"font-weight: bold\">       Param # </span>┃\n",
              "┡━━━━━━━━━━━━━━━━━━━━━━━━━━━━━━━━━╇━━━━━━━━━━━━━━━━━━━━━━━━╇━━━━━━━━━━━━━━━┩\n",
              "│ input_layer (<span style=\"color: #0087ff; text-decoration-color: #0087ff\">InputLayer</span>)        │ (<span style=\"color: #00d7ff; text-decoration-color: #00d7ff\">None</span>, <span style=\"color: #00af00; text-decoration-color: #00af00\">32</span>, <span style=\"color: #00af00; text-decoration-color: #00af00\">32</span>, <span style=\"color: #00af00; text-decoration-color: #00af00\">3</span>)      │             <span style=\"color: #00af00; text-decoration-color: #00af00\">0</span> │\n",
              "├─────────────────────────────────┼────────────────────────┼───────────────┤\n",
              "│ data_augmentation (<span style=\"color: #0087ff; text-decoration-color: #0087ff\">Sequential</span>)  │ (<span style=\"color: #00d7ff; text-decoration-color: #00d7ff\">None</span>, <span style=\"color: #00af00; text-decoration-color: #00af00\">32</span>, <span style=\"color: #00af00; text-decoration-color: #00af00\">32</span>, <span style=\"color: #00af00; text-decoration-color: #00af00\">3</span>)      │             <span style=\"color: #00af00; text-decoration-color: #00af00\">0</span> │\n",
              "├─────────────────────────────────┼────────────────────────┼───────────────┤\n",
              "│ conv2d (<span style=\"color: #0087ff; text-decoration-color: #0087ff\">Conv2D</span>)                 │ (<span style=\"color: #00d7ff; text-decoration-color: #00d7ff\">None</span>, <span style=\"color: #00af00; text-decoration-color: #00af00\">32</span>, <span style=\"color: #00af00; text-decoration-color: #00af00\">32</span>, <span style=\"color: #00af00; text-decoration-color: #00af00\">32</span>)     │           <span style=\"color: #00af00; text-decoration-color: #00af00\">896</span> │\n",
              "├─────────────────────────────────┼────────────────────────┼───────────────┤\n",
              "│ conv2d_1 (<span style=\"color: #0087ff; text-decoration-color: #0087ff\">Conv2D</span>)               │ (<span style=\"color: #00d7ff; text-decoration-color: #00d7ff\">None</span>, <span style=\"color: #00af00; text-decoration-color: #00af00\">32</span>, <span style=\"color: #00af00; text-decoration-color: #00af00\">32</span>, <span style=\"color: #00af00; text-decoration-color: #00af00\">32</span>)     │         <span style=\"color: #00af00; text-decoration-color: #00af00\">9,248</span> │\n",
              "├─────────────────────────────────┼────────────────────────┼───────────────┤\n",
              "│ max_pooling2d (<span style=\"color: #0087ff; text-decoration-color: #0087ff\">MaxPooling2D</span>)    │ (<span style=\"color: #00d7ff; text-decoration-color: #00d7ff\">None</span>, <span style=\"color: #00af00; text-decoration-color: #00af00\">16</span>, <span style=\"color: #00af00; text-decoration-color: #00af00\">16</span>, <span style=\"color: #00af00; text-decoration-color: #00af00\">32</span>)     │             <span style=\"color: #00af00; text-decoration-color: #00af00\">0</span> │\n",
              "├─────────────────────────────────┼────────────────────────┼───────────────┤\n",
              "│ dropout (<span style=\"color: #0087ff; text-decoration-color: #0087ff\">Dropout</span>)               │ (<span style=\"color: #00d7ff; text-decoration-color: #00d7ff\">None</span>, <span style=\"color: #00af00; text-decoration-color: #00af00\">16</span>, <span style=\"color: #00af00; text-decoration-color: #00af00\">16</span>, <span style=\"color: #00af00; text-decoration-color: #00af00\">32</span>)     │             <span style=\"color: #00af00; text-decoration-color: #00af00\">0</span> │\n",
              "├─────────────────────────────────┼────────────────────────┼───────────────┤\n",
              "│ conv2d_2 (<span style=\"color: #0087ff; text-decoration-color: #0087ff\">Conv2D</span>)               │ (<span style=\"color: #00d7ff; text-decoration-color: #00d7ff\">None</span>, <span style=\"color: #00af00; text-decoration-color: #00af00\">16</span>, <span style=\"color: #00af00; text-decoration-color: #00af00\">16</span>, <span style=\"color: #00af00; text-decoration-color: #00af00\">64</span>)     │        <span style=\"color: #00af00; text-decoration-color: #00af00\">18,496</span> │\n",
              "├─────────────────────────────────┼────────────────────────┼───────────────┤\n",
              "│ conv2d_3 (<span style=\"color: #0087ff; text-decoration-color: #0087ff\">Conv2D</span>)               │ (<span style=\"color: #00d7ff; text-decoration-color: #00d7ff\">None</span>, <span style=\"color: #00af00; text-decoration-color: #00af00\">16</span>, <span style=\"color: #00af00; text-decoration-color: #00af00\">16</span>, <span style=\"color: #00af00; text-decoration-color: #00af00\">64</span>)     │        <span style=\"color: #00af00; text-decoration-color: #00af00\">36,928</span> │\n",
              "├─────────────────────────────────┼────────────────────────┼───────────────┤\n",
              "│ max_pooling2d_1 (<span style=\"color: #0087ff; text-decoration-color: #0087ff\">MaxPooling2D</span>)  │ (<span style=\"color: #00d7ff; text-decoration-color: #00d7ff\">None</span>, <span style=\"color: #00af00; text-decoration-color: #00af00\">8</span>, <span style=\"color: #00af00; text-decoration-color: #00af00\">8</span>, <span style=\"color: #00af00; text-decoration-color: #00af00\">64</span>)       │             <span style=\"color: #00af00; text-decoration-color: #00af00\">0</span> │\n",
              "├─────────────────────────────────┼────────────────────────┼───────────────┤\n",
              "│ dropout_1 (<span style=\"color: #0087ff; text-decoration-color: #0087ff\">Dropout</span>)             │ (<span style=\"color: #00d7ff; text-decoration-color: #00d7ff\">None</span>, <span style=\"color: #00af00; text-decoration-color: #00af00\">8</span>, <span style=\"color: #00af00; text-decoration-color: #00af00\">8</span>, <span style=\"color: #00af00; text-decoration-color: #00af00\">64</span>)       │             <span style=\"color: #00af00; text-decoration-color: #00af00\">0</span> │\n",
              "├─────────────────────────────────┼────────────────────────┼───────────────┤\n",
              "│ conv2d_4 (<span style=\"color: #0087ff; text-decoration-color: #0087ff\">Conv2D</span>)               │ (<span style=\"color: #00d7ff; text-decoration-color: #00d7ff\">None</span>, <span style=\"color: #00af00; text-decoration-color: #00af00\">8</span>, <span style=\"color: #00af00; text-decoration-color: #00af00\">8</span>, <span style=\"color: #00af00; text-decoration-color: #00af00\">128</span>)      │        <span style=\"color: #00af00; text-decoration-color: #00af00\">73,856</span> │\n",
              "├─────────────────────────────────┼────────────────────────┼───────────────┤\n",
              "│ conv2d_5 (<span style=\"color: #0087ff; text-decoration-color: #0087ff\">Conv2D</span>)               │ (<span style=\"color: #00d7ff; text-decoration-color: #00d7ff\">None</span>, <span style=\"color: #00af00; text-decoration-color: #00af00\">8</span>, <span style=\"color: #00af00; text-decoration-color: #00af00\">8</span>, <span style=\"color: #00af00; text-decoration-color: #00af00\">128</span>)      │       <span style=\"color: #00af00; text-decoration-color: #00af00\">147,584</span> │\n",
              "├─────────────────────────────────┼────────────────────────┼───────────────┤\n",
              "│ max_pooling2d_2 (<span style=\"color: #0087ff; text-decoration-color: #0087ff\">MaxPooling2D</span>)  │ (<span style=\"color: #00d7ff; text-decoration-color: #00d7ff\">None</span>, <span style=\"color: #00af00; text-decoration-color: #00af00\">4</span>, <span style=\"color: #00af00; text-decoration-color: #00af00\">4</span>, <span style=\"color: #00af00; text-decoration-color: #00af00\">128</span>)      │             <span style=\"color: #00af00; text-decoration-color: #00af00\">0</span> │\n",
              "├─────────────────────────────────┼────────────────────────┼───────────────┤\n",
              "│ dropout_2 (<span style=\"color: #0087ff; text-decoration-color: #0087ff\">Dropout</span>)             │ (<span style=\"color: #00d7ff; text-decoration-color: #00d7ff\">None</span>, <span style=\"color: #00af00; text-decoration-color: #00af00\">4</span>, <span style=\"color: #00af00; text-decoration-color: #00af00\">4</span>, <span style=\"color: #00af00; text-decoration-color: #00af00\">128</span>)      │             <span style=\"color: #00af00; text-decoration-color: #00af00\">0</span> │\n",
              "├─────────────────────────────────┼────────────────────────┼───────────────┤\n",
              "│ flatten (<span style=\"color: #0087ff; text-decoration-color: #0087ff\">Flatten</span>)               │ (<span style=\"color: #00d7ff; text-decoration-color: #00d7ff\">None</span>, <span style=\"color: #00af00; text-decoration-color: #00af00\">2048</span>)           │             <span style=\"color: #00af00; text-decoration-color: #00af00\">0</span> │\n",
              "├─────────────────────────────────┼────────────────────────┼───────────────┤\n",
              "│ dense (<span style=\"color: #0087ff; text-decoration-color: #0087ff\">Dense</span>)                   │ (<span style=\"color: #00d7ff; text-decoration-color: #00d7ff\">None</span>, <span style=\"color: #00af00; text-decoration-color: #00af00\">256</span>)            │       <span style=\"color: #00af00; text-decoration-color: #00af00\">524,544</span> │\n",
              "├─────────────────────────────────┼────────────────────────┼───────────────┤\n",
              "│ dropout_3 (<span style=\"color: #0087ff; text-decoration-color: #0087ff\">Dropout</span>)             │ (<span style=\"color: #00d7ff; text-decoration-color: #00d7ff\">None</span>, <span style=\"color: #00af00; text-decoration-color: #00af00\">256</span>)            │             <span style=\"color: #00af00; text-decoration-color: #00af00\">0</span> │\n",
              "├─────────────────────────────────┼────────────────────────┼───────────────┤\n",
              "│ dense_1 (<span style=\"color: #0087ff; text-decoration-color: #0087ff\">Dense</span>)                 │ (<span style=\"color: #00d7ff; text-decoration-color: #00d7ff\">None</span>, <span style=\"color: #00af00; text-decoration-color: #00af00\">100</span>)            │        <span style=\"color: #00af00; text-decoration-color: #00af00\">25,700</span> │\n",
              "└─────────────────────────────────┴────────────────────────┴───────────────┘\n",
              "</pre>\n"
            ]
          },
          "metadata": {}
        },
        {
          "output_type": "display_data",
          "data": {
            "text/plain": [
              "\u001b[1m Total params: \u001b[0m\u001b[38;5;34m837,252\u001b[0m (3.19 MB)\n"
            ],
            "text/html": [
              "<pre style=\"white-space:pre;overflow-x:auto;line-height:normal;font-family:Menlo,'DejaVu Sans Mono',consolas,'Courier New',monospace\"><span style=\"font-weight: bold\"> Total params: </span><span style=\"color: #00af00; text-decoration-color: #00af00\">837,252</span> (3.19 MB)\n",
              "</pre>\n"
            ]
          },
          "metadata": {}
        },
        {
          "output_type": "display_data",
          "data": {
            "text/plain": [
              "\u001b[1m Trainable params: \u001b[0m\u001b[38;5;34m837,252\u001b[0m (3.19 MB)\n"
            ],
            "text/html": [
              "<pre style=\"white-space:pre;overflow-x:auto;line-height:normal;font-family:Menlo,'DejaVu Sans Mono',consolas,'Courier New',monospace\"><span style=\"font-weight: bold\"> Trainable params: </span><span style=\"color: #00af00; text-decoration-color: #00af00\">837,252</span> (3.19 MB)\n",
              "</pre>\n"
            ]
          },
          "metadata": {}
        },
        {
          "output_type": "display_data",
          "data": {
            "text/plain": [
              "\u001b[1m Non-trainable params: \u001b[0m\u001b[38;5;34m0\u001b[0m (0.00 B)\n"
            ],
            "text/html": [
              "<pre style=\"white-space:pre;overflow-x:auto;line-height:normal;font-family:Menlo,'DejaVu Sans Mono',consolas,'Courier New',monospace\"><span style=\"font-weight: bold\"> Non-trainable params: </span><span style=\"color: #00af00; text-decoration-color: #00af00\">0</span> (0.00 B)\n",
              "</pre>\n"
            ]
          },
          "metadata": {}
        }
      ],
      "source": [
        "model = build_model()\n",
        "model.compile(\n",
        "    optimizer=optimizers.Adam(learning_rate=CONFIG[\"learning_rate\"]),\n",
        "    loss=losses.CategoricalCrossentropy(),\n",
        "    metrics=[metrics.CategoricalAccuracy(name=\"acc\"),\n",
        "             metrics.TopKCategoricalAccuracy(k=5, name=\"top5\")]\n",
        ")\n",
        "model.summary()"
      ]
    },
    {
      "cell_type": "markdown",
      "id": "dc5e6fbf",
      "metadata": {
        "id": "dc5e6fbf"
      },
      "source": [
        "## ⏱️ Callbacks"
      ]
    },
    {
      "cell_type": "code",
      "execution_count": 9,
      "id": "42ce4020",
      "metadata": {
        "id": "42ce4020"
      },
      "outputs": [],
      "source": [
        "ckpt_path = \"best_cifar100_cnn.keras\"\n",
        "cbs = [\n",
        "    callbacks.ModelCheckpoint(ckpt_path, monitor=\"val_acc\", mode=\"max\", save_best_only=True, verbose=1),\n",
        "    callbacks.ReduceLROnPlateau(monitor=\"val_loss\", factor=0.5, patience=3, verbose=1),\n",
        "    callbacks.EarlyStopping(monitor=\"val_loss\", patience=5, restore_best_weights=True, verbose=1),\n",
        "]"
      ]
    },
    {
      "cell_type": "markdown",
      "id": "22dfe44d",
      "metadata": {
        "id": "22dfe44d"
      },
      "source": [
        "## 🏋️ Train"
      ]
    },
    {
      "cell_type": "code",
      "execution_count": 10,
      "id": "36146e56",
      "metadata": {
        "colab": {
          "base_uri": "https://localhost:8080/"
        },
        "id": "36146e56",
        "outputId": "7f453a8b-0fe2-48a5-b33e-c95df7bf9f25"
      },
      "outputs": [
        {
          "output_type": "stream",
          "name": "stdout",
          "text": [
            "Epoch 1/30\n",
            "\n",
            "Epoch 1: val_acc improved from -inf to 0.07100, saving model to best_cifar100_cnn.keras\n",
            "352/352 - 11s - 30ms/step - acc: 0.0288 - loss: 4.4010 - top5: 0.1222 - val_acc: 0.0710 - val_loss: 4.1342 - val_top5: 0.2326 - learning_rate: 1.0000e-03\n",
            "Epoch 2/30\n",
            "\n",
            "Epoch 2: val_acc improved from 0.07100 to 0.14340, saving model to best_cifar100_cnn.keras\n",
            "352/352 - 3s - 8ms/step - acc: 0.0950 - loss: 3.9086 - top5: 0.2934 - val_acc: 0.1434 - val_loss: 3.6337 - val_top5: 0.3828 - learning_rate: 1.0000e-03\n",
            "Epoch 3/30\n",
            "\n",
            "Epoch 3: val_acc improved from 0.14340 to 0.18880, saving model to best_cifar100_cnn.keras\n",
            "352/352 - 3s - 8ms/step - acc: 0.1416 - loss: 3.6322 - top5: 0.3869 - val_acc: 0.1888 - val_loss: 3.4524 - val_top5: 0.4344 - learning_rate: 1.0000e-03\n",
            "Epoch 4/30\n",
            "\n",
            "Epoch 4: val_acc improved from 0.18880 to 0.22080, saving model to best_cifar100_cnn.keras\n",
            "352/352 - 3s - 9ms/step - acc: 0.1778 - loss: 3.4428 - top5: 0.4473 - val_acc: 0.2208 - val_loss: 3.2641 - val_top5: 0.4890 - learning_rate: 1.0000e-03\n",
            "Epoch 5/30\n",
            "\n",
            "Epoch 5: val_acc improved from 0.22080 to 0.24520, saving model to best_cifar100_cnn.keras\n",
            "352/352 - 3s - 8ms/step - acc: 0.2058 - loss: 3.3045 - top5: 0.4854 - val_acc: 0.2452 - val_loss: 3.1473 - val_top5: 0.5184 - learning_rate: 1.0000e-03\n",
            "Epoch 6/30\n",
            "\n",
            "Epoch 6: val_acc improved from 0.24520 to 0.26760, saving model to best_cifar100_cnn.keras\n",
            "352/352 - 3s - 8ms/step - acc: 0.2265 - loss: 3.1894 - top5: 0.5176 - val_acc: 0.2676 - val_loss: 3.0349 - val_top5: 0.5550 - learning_rate: 1.0000e-03\n",
            "Epoch 7/30\n",
            "\n",
            "Epoch 7: val_acc improved from 0.26760 to 0.29560, saving model to best_cifar100_cnn.keras\n",
            "352/352 - 3s - 8ms/step - acc: 0.2448 - loss: 3.0974 - top5: 0.5432 - val_acc: 0.2956 - val_loss: 2.8882 - val_top5: 0.5922 - learning_rate: 1.0000e-03\n",
            "Epoch 8/30\n",
            "\n",
            "Epoch 8: val_acc improved from 0.29560 to 0.31500, saving model to best_cifar100_cnn.keras\n",
            "352/352 - 3s - 8ms/step - acc: 0.2679 - loss: 3.0058 - top5: 0.5659 - val_acc: 0.3150 - val_loss: 2.7938 - val_top5: 0.6174 - learning_rate: 1.0000e-03\n",
            "Epoch 9/30\n",
            "\n",
            "Epoch 9: val_acc improved from 0.31500 to 0.32660, saving model to best_cifar100_cnn.keras\n",
            "352/352 - 3s - 8ms/step - acc: 0.2787 - loss: 2.9433 - top5: 0.5820 - val_acc: 0.3266 - val_loss: 2.7395 - val_top5: 0.6280 - learning_rate: 1.0000e-03\n",
            "Epoch 10/30\n",
            "\n",
            "Epoch 10: val_acc improved from 0.32660 to 0.35080, saving model to best_cifar100_cnn.keras\n",
            "352/352 - 3s - 8ms/step - acc: 0.2917 - loss: 2.8761 - top5: 0.6000 - val_acc: 0.3508 - val_loss: 2.6391 - val_top5: 0.6512 - learning_rate: 1.0000e-03\n",
            "Epoch 11/30\n",
            "\n",
            "Epoch 11: val_acc improved from 0.35080 to 0.35680, saving model to best_cifar100_cnn.keras\n",
            "352/352 - 3s - 8ms/step - acc: 0.3055 - loss: 2.8184 - top5: 0.6149 - val_acc: 0.3568 - val_loss: 2.6149 - val_top5: 0.6592 - learning_rate: 1.0000e-03\n",
            "Epoch 12/30\n",
            "\n",
            "Epoch 12: val_acc improved from 0.35680 to 0.36660, saving model to best_cifar100_cnn.keras\n",
            "352/352 - 3s - 8ms/step - acc: 0.3171 - loss: 2.7756 - top5: 0.6232 - val_acc: 0.3666 - val_loss: 2.5412 - val_top5: 0.6780 - learning_rate: 1.0000e-03\n",
            "Epoch 13/30\n",
            "\n",
            "Epoch 13: val_acc improved from 0.36660 to 0.37720, saving model to best_cifar100_cnn.keras\n",
            "352/352 - 3s - 8ms/step - acc: 0.3231 - loss: 2.7367 - top5: 0.6335 - val_acc: 0.3772 - val_loss: 2.5217 - val_top5: 0.6784 - learning_rate: 1.0000e-03\n",
            "Epoch 14/30\n",
            "\n",
            "Epoch 14: val_acc improved from 0.37720 to 0.38340, saving model to best_cifar100_cnn.keras\n",
            "352/352 - 3s - 8ms/step - acc: 0.3298 - loss: 2.7030 - top5: 0.6427 - val_acc: 0.3834 - val_loss: 2.4703 - val_top5: 0.6956 - learning_rate: 1.0000e-03\n",
            "Epoch 15/30\n",
            "\n",
            "Epoch 15: val_acc did not improve from 0.38340\n",
            "352/352 - 3s - 8ms/step - acc: 0.3374 - loss: 2.6614 - top5: 0.6519 - val_acc: 0.3818 - val_loss: 2.4907 - val_top5: 0.6920 - learning_rate: 1.0000e-03\n",
            "Epoch 16/30\n",
            "\n",
            "Epoch 16: val_acc improved from 0.38340 to 0.38700, saving model to best_cifar100_cnn.keras\n",
            "352/352 - 3s - 8ms/step - acc: 0.3453 - loss: 2.6257 - top5: 0.6596 - val_acc: 0.3870 - val_loss: 2.4378 - val_top5: 0.7008 - learning_rate: 1.0000e-03\n",
            "Epoch 17/30\n",
            "\n",
            "Epoch 17: val_acc improved from 0.38700 to 0.40300, saving model to best_cifar100_cnn.keras\n",
            "352/352 - 3s - 8ms/step - acc: 0.3529 - loss: 2.5985 - top5: 0.6647 - val_acc: 0.4030 - val_loss: 2.3975 - val_top5: 0.7058 - learning_rate: 1.0000e-03\n",
            "Epoch 18/30\n",
            "\n",
            "Epoch 18: val_acc did not improve from 0.40300\n",
            "352/352 - 3s - 8ms/step - acc: 0.3593 - loss: 2.5711 - top5: 0.6715 - val_acc: 0.3990 - val_loss: 2.3922 - val_top5: 0.7050 - learning_rate: 1.0000e-03\n",
            "Epoch 19/30\n",
            "\n",
            "Epoch 19: val_acc improved from 0.40300 to 0.40360, saving model to best_cifar100_cnn.keras\n",
            "352/352 - 3s - 8ms/step - acc: 0.3638 - loss: 2.5454 - top5: 0.6788 - val_acc: 0.4036 - val_loss: 2.3779 - val_top5: 0.7138 - learning_rate: 1.0000e-03\n",
            "Epoch 20/30\n",
            "\n",
            "Epoch 20: val_acc did not improve from 0.40360\n",
            "352/352 - 3s - 8ms/step - acc: 0.3693 - loss: 2.5224 - top5: 0.6843 - val_acc: 0.3950 - val_loss: 2.4088 - val_top5: 0.7074 - learning_rate: 1.0000e-03\n",
            "Epoch 21/30\n",
            "\n",
            "Epoch 21: val_acc improved from 0.40360 to 0.40620, saving model to best_cifar100_cnn.keras\n",
            "352/352 - 3s - 8ms/step - acc: 0.3702 - loss: 2.5142 - top5: 0.6857 - val_acc: 0.4062 - val_loss: 2.3569 - val_top5: 0.7162 - learning_rate: 1.0000e-03\n",
            "Epoch 22/30\n",
            "\n",
            "Epoch 22: val_acc did not improve from 0.40620\n",
            "352/352 - 3s - 8ms/step - acc: 0.3765 - loss: 2.4858 - top5: 0.6911 - val_acc: 0.4034 - val_loss: 2.3664 - val_top5: 0.7130 - learning_rate: 1.0000e-03\n",
            "Epoch 23/30\n",
            "\n",
            "Epoch 23: val_acc improved from 0.40620 to 0.41520, saving model to best_cifar100_cnn.keras\n",
            "352/352 - 3s - 8ms/step - acc: 0.3818 - loss: 2.4664 - top5: 0.6961 - val_acc: 0.4152 - val_loss: 2.3301 - val_top5: 0.7224 - learning_rate: 1.0000e-03\n",
            "Epoch 24/30\n",
            "\n",
            "Epoch 24: val_acc improved from 0.41520 to 0.42220, saving model to best_cifar100_cnn.keras\n",
            "352/352 - 3s - 8ms/step - acc: 0.3828 - loss: 2.4445 - top5: 0.7013 - val_acc: 0.4222 - val_loss: 2.3152 - val_top5: 0.7256 - learning_rate: 1.0000e-03\n",
            "Epoch 25/30\n",
            "\n",
            "Epoch 25: val_acc did not improve from 0.42220\n",
            "352/352 - 3s - 8ms/step - acc: 0.3866 - loss: 2.4324 - top5: 0.7048 - val_acc: 0.4038 - val_loss: 2.3824 - val_top5: 0.7112 - learning_rate: 1.0000e-03\n",
            "Epoch 26/30\n",
            "\n",
            "Epoch 26: val_acc improved from 0.42220 to 0.42400, saving model to best_cifar100_cnn.keras\n",
            "352/352 - 3s - 8ms/step - acc: 0.3946 - loss: 2.4219 - top5: 0.7038 - val_acc: 0.4240 - val_loss: 2.2912 - val_top5: 0.7320 - learning_rate: 1.0000e-03\n",
            "Epoch 27/30\n",
            "\n",
            "Epoch 27: val_acc improved from 0.42400 to 0.43340, saving model to best_cifar100_cnn.keras\n",
            "352/352 - 3s - 8ms/step - acc: 0.3948 - loss: 2.4018 - top5: 0.7103 - val_acc: 0.4334 - val_loss: 2.2502 - val_top5: 0.7418 - learning_rate: 1.0000e-03\n",
            "Epoch 28/30\n",
            "\n",
            "Epoch 28: val_acc did not improve from 0.43340\n",
            "352/352 - 3s - 8ms/step - acc: 0.3989 - loss: 2.3852 - top5: 0.7158 - val_acc: 0.4314 - val_loss: 2.2549 - val_top5: 0.7348 - learning_rate: 1.0000e-03\n",
            "Epoch 29/30\n",
            "\n",
            "Epoch 29: val_acc did not improve from 0.43340\n",
            "352/352 - 3s - 8ms/step - acc: 0.3998 - loss: 2.3809 - top5: 0.7146 - val_acc: 0.4232 - val_loss: 2.3115 - val_top5: 0.7290 - learning_rate: 1.0000e-03\n",
            "Epoch 30/30\n",
            "\n",
            "Epoch 30: val_acc improved from 0.43340 to 0.44260, saving model to best_cifar100_cnn.keras\n",
            "352/352 - 3s - 8ms/step - acc: 0.3993 - loss: 2.3687 - top5: 0.7164 - val_acc: 0.4426 - val_loss: 2.1989 - val_top5: 0.7524 - learning_rate: 1.0000e-03\n",
            "Restoring model weights from the end of the best epoch: 30.\n"
          ]
        }
      ],
      "source": [
        "history = model.fit(\n",
        "    x_train, y_train,\n",
        "    batch_size=CONFIG[\"batch_size\"],\n",
        "    epochs=CONFIG[\"epochs\"],\n",
        "    validation_split=0.1,\n",
        "    callbacks=cbs,\n",
        "    verbose=2\n",
        ")"
      ]
    },
    {
      "cell_type": "markdown",
      "id": "c52a7272",
      "metadata": {
        "id": "c52a7272"
      },
      "source": [
        "## 📈 Learning Curves"
      ]
    },
    {
      "cell_type": "code",
      "execution_count": 11,
      "id": "93ad12f8",
      "metadata": {
        "colab": {
          "base_uri": "https://localhost:8080/",
          "height": 1000
        },
        "id": "93ad12f8",
        "outputId": "29df585c-7492-49d2-a441-6910fd3b3257"
      },
      "outputs": [
        {
          "output_type": "display_data",
          "data": {
            "text/plain": [
              "<Figure size 700x500 with 1 Axes>"
            ],
            "image/png": "[encoded data removed]"
          },
          "metadata": {}
        },
        {
          "output_type": "display_data",
          "data": {
            "text/plain": [
              "<Figure size 700x500 with 1 Axes>"
            ],
            "image/png": "[encoded data removed]"
          },
          "metadata": {}
        },
        {
          "output_type": "display_data",
          "data": {
            "text/plain": [
              "<Figure size 700x500 with 1 Axes>"
            ],
            "image/png": "[encoded data removed]"
          },
          "metadata": {}
        }
      ],
      "source": [
        "def plot_history(hist):\n",
        "    plt.figure(figsize=(7,5))\n",
        "    plt.plot(hist.history[\"acc\"], label=\"train acc\")\n",
        "    plt.plot(hist.history[\"val_acc\"], label=\"val acc\")\n",
        "    plt.title(\"Accuracy\"); plt.xlabel(\"Epoch\"); plt.ylabel(\"Accuracy\")\n",
        "    plt.legend(); plt.grid(True); plt.show()\n",
        "\n",
        "    plt.figure(figsize=(7,5))\n",
        "    plt.plot(hist.history[\"top5\"], label=\"train top5\")\n",
        "    plt.plot(hist.history[\"val_top5\"], label=\"val top5\")\n",
        "    plt.title(\"Top-5 Accuracy\"); plt.xlabel(\"Epoch\"); plt.ylabel(\"Top-5 Accuracy\")\n",
        "    plt.legend(); plt.grid(True); plt.show()\n",
        "\n",
        "    plt.figure(figsize=(7,5))\n",
        "    plt.plot(hist.history[\"loss\"], label=\"train loss\")\n",
        "    plt.plot(hist.history[\"val_loss\"], label=\"val loss\")\n",
        "    plt.title(\"Loss\"); plt.xlabel(\"Epoch\"); plt.ylabel(\"Loss\")\n",
        "    plt.legend(); plt.grid(True); plt.show()\n",
        "\n",
        "plot_history(history)"
      ]
    },
    {
      "cell_type": "markdown",
      "id": "ba00686d",
      "metadata": {
        "id": "ba00686d"
      },
      "source": [
        "## ✅ Evaluate on Test Set"
      ]
    },
    {
      "cell_type": "code",
      "execution_count": 12,
      "id": "7e3be552",
      "metadata": {
        "colab": {
          "base_uri": "https://localhost:8080/"
        },
        "id": "7e3be552",
        "outputId": "05efa17c-4e71-476d-eba3-4c2ec69fe3aa"
      },
      "outputs": [
        {
          "output_type": "stream",
          "name": "stdout",
          "text": [
            "{\n",
            "  \"acc\": 0.453000009059906,\n",
            "  \"loss\": 2.1510493755340576,\n",
            "  \"top5\": 0.757099986076355\n",
            "}\n"
          ]
        }
      ],
      "source": [
        "test_metrics = model.evaluate(x_test, y_test, verbose=0, return_dict=True)\n",
        "print(json.dumps(test_metrics, indent=2))"
      ]
    },
    {
      "cell_type": "markdown",
      "source": [
        "## 🎯 Per-Class Accuracy\n",
        "Let's see which classes perform well and which don't.\n",
        "\n"
      ],
      "metadata": {
        "id": "mehuDSfVk6T2"
      },
      "id": "mehuDSfVk6T2"
    },
    {
      "cell_type": "code",
      "source": [
        "y_test_labels = np.argmax(y_test, axis=1)\n",
        "y_pred_probs = model.predict(x_test, batch_size=256, verbose=0)\n",
        "y_pred_labels = np.argmax(y_pred_probs, axis=1)\n",
        "\n",
        "acc_per_class = []\n",
        "for i in range(100):\n",
        "    idx = (y_test_labels == i)\n",
        "    acc = accuracy_score(y_test_labels[idx], y_pred_labels[idx])\n",
        "    acc_per_class.append(acc)\n",
        "\n",
        "plt.figure(figsize=(14,5))\n",
        "plt.bar(range(100), acc_per_class)\n",
        "plt.title(\"Per-Class Accuracy\")\n",
        "plt.xlabel(\"Class ID\")\n",
        "plt.ylabel(\"Accuracy\")\n",
        "plt.show()"
      ],
      "metadata": {
        "colab": {
          "base_uri": "https://localhost:8080/",
          "height": 487
        },
        "id": "RVHjPYV_k7z4",
        "outputId": "55b78d3f-f437-4432-8ef9-bec901e760e0"
      },
      "id": "RVHjPYV_k7z4",
      "execution_count": 13,
      "outputs": [
        {
          "output_type": "display_data",
          "data": {
            "text/plain": [
              "<Figure size 1400x500 with 1 Axes>"
            ],
            "image/png": "[encoded data removed]"
          },
          "metadata": {}
        }
      ]
    },
    {
      "cell_type": "markdown",
      "id": "08afe72d",
      "metadata": {
        "id": "08afe72d"
      },
      "source": [
        "## 🧾 Confusion Matrix & Classification Report"
      ]
    },
    {
      "cell_type": "code",
      "source": [
        "print(classification_report(y_test_labels, y_pred_labels, digits=3))\n"
      ],
      "metadata": {
        "colab": {
          "base_uri": "https://localhost:8080/"
        },
        "id": "iTcNloDkqoG6",
        "outputId": "500c4034-fb11-4fee-8c8e-61567036b5dc"
      },
      "id": "iTcNloDkqoG6",
      "execution_count": 14,
      "outputs": [
        {
          "output_type": "stream",
          "name": "stdout",
          "text": [
            "              precision    recall  f1-score   support\n",
            "\n",
            "           0      0.691     0.760     0.724       100\n",
            "           1      0.598     0.520     0.556       100\n",
            "           2      0.339     0.190     0.244       100\n",
            "           3      0.429     0.150     0.222       100\n",
            "           4      0.210     0.130     0.160       100\n",
            "           5      0.425     0.510     0.464       100\n",
            "           6      0.434     0.590     0.500       100\n",
            "           7      0.696     0.390     0.500       100\n",
            "           8      0.451     0.510     0.479       100\n",
            "           9      0.640     0.550     0.591       100\n",
            "          10      0.600     0.180     0.277       100\n",
            "          11      0.275     0.190     0.225       100\n",
            "          12      0.582     0.460     0.514       100\n",
            "          13      0.397     0.520     0.450       100\n",
            "          14      0.400     0.340     0.368       100\n",
            "          15      0.433     0.290     0.347       100\n",
            "          16      0.418     0.560     0.479       100\n",
            "          17      0.644     0.650     0.647       100\n",
            "          18      0.556     0.350     0.429       100\n",
            "          19      0.416     0.370     0.392       100\n",
            "          20      0.678     0.820     0.742       100\n",
            "          21      0.462     0.660     0.543       100\n",
            "          22      0.355     0.380     0.367       100\n",
            "          23      0.765     0.620     0.685       100\n",
            "          24      0.695     0.660     0.677       100\n",
            "          25      0.373     0.220     0.277       100\n",
            "          26      0.288     0.440     0.348       100\n",
            "          27      0.216     0.420     0.286       100\n",
            "          28      0.711     0.640     0.674       100\n",
            "          29      0.556     0.350     0.429       100\n",
            "          30      0.335     0.660     0.444       100\n",
            "          31      0.409     0.520     0.458       100\n",
            "          32      0.538     0.350     0.424       100\n",
            "          33      0.411     0.390     0.400       100\n",
            "          34      0.380     0.410     0.394       100\n",
            "          35      0.241     0.350     0.286       100\n",
            "          36      0.494     0.400     0.442       100\n",
            "          37      0.244     0.620     0.350       100\n",
            "          38      0.189     0.420     0.261       100\n",
            "          39      0.542     0.640     0.587       100\n",
            "          40      0.515     0.340     0.410       100\n",
            "          41      0.657     0.710     0.683       100\n",
            "          42      0.212     0.570     0.309       100\n",
            "          43      0.400     0.400     0.400       100\n",
            "          44      0.321     0.170     0.222       100\n",
            "          45      0.319     0.370     0.343       100\n",
            "          46      0.307     0.230     0.263       100\n",
            "          47      0.678     0.400     0.503       100\n",
            "          48      0.537     0.800     0.643       100\n",
            "          49      0.684     0.520     0.591       100\n",
            "          50      0.452     0.140     0.214       100\n",
            "          51      0.388     0.260     0.311       100\n",
            "          52      0.468     0.880     0.611       100\n",
            "          53      0.747     0.560     0.640       100\n",
            "          54      0.537     0.580     0.558       100\n",
            "          55      0.196     0.090     0.123       100\n",
            "          56      0.744     0.610     0.670       100\n",
            "          57      0.640     0.480     0.549       100\n",
            "          58      0.694     0.500     0.581       100\n",
            "          59      0.425     0.370     0.396       100\n",
            "          60      0.745     0.790     0.767       100\n",
            "          61      0.550     0.600     0.574       100\n",
            "          62      0.756     0.340     0.469       100\n",
            "          63      0.432     0.410     0.421       100\n",
            "          64      0.315     0.170     0.221       100\n",
            "          65      0.438     0.140     0.212       100\n",
            "          66      0.276     0.530     0.363       100\n",
            "          67      0.446     0.250     0.321       100\n",
            "          68      0.889     0.800     0.842       100\n",
            "          69      0.583     0.600     0.591       100\n",
            "          70      0.434     0.590     0.500       100\n",
            "          71      0.649     0.610     0.629       100\n",
            "          72      0.450     0.090     0.150       100\n",
            "          73      0.387     0.360     0.373       100\n",
            "          74      0.229     0.240     0.234       100\n",
            "          75      0.544     0.860     0.667       100\n",
            "          76      0.833     0.600     0.698       100\n",
            "          77      0.556     0.200     0.294       100\n",
            "          78      0.304     0.350     0.326       100\n",
            "          79      0.523     0.340     0.412       100\n",
            "          80      0.214     0.060     0.094       100\n",
            "          81      0.403     0.540     0.462       100\n",
            "          82      0.827     0.810     0.818       100\n",
            "          83      0.368     0.350     0.359       100\n",
            "          84      0.396     0.420     0.408       100\n",
            "          85      0.500     0.650     0.565       100\n",
            "          86      0.467     0.500     0.483       100\n",
            "          87      0.556     0.600     0.577       100\n",
            "          88      0.274     0.680     0.391       100\n",
            "          89      0.328     0.630     0.432       100\n",
            "          90      0.444     0.400     0.421       100\n",
            "          91      0.500     0.630     0.558       100\n",
            "          92      0.420     0.290     0.343       100\n",
            "          93      0.301     0.250     0.273       100\n",
            "          94      0.713     0.770     0.740       100\n",
            "          95      0.613     0.490     0.544       100\n",
            "          96      0.370     0.270     0.312       100\n",
            "          97      0.310     0.350     0.329       100\n",
            "          98      0.304     0.170     0.218       100\n",
            "          99      0.784     0.400     0.530       100\n",
            "\n",
            "    accuracy                          0.453     10000\n",
            "   macro avg      0.479     0.453     0.446     10000\n",
            "weighted avg      0.479     0.453     0.446     10000\n",
            "\n"
          ]
        }
      ]
    },
    {
      "cell_type": "markdown",
      "source": [
        "## 🔍 Example Predictions\n"
      ],
      "metadata": {
        "id": "573hcLfrqpZ-"
      },
      "id": "573hcLfrqpZ-"
    },
    {
      "cell_type": "code",
      "execution_count": 15,
      "id": "b419e7dd",
      "metadata": {
        "colab": {
          "base_uri": "https://localhost:8080/",
          "height": 1000
        },
        "id": "b419e7dd",
        "outputId": "842fa3ad-758c-4890-c979-2a44b6be6da2"
      },
      "outputs": [
        {
          "output_type": "display_data",
          "data": {
            "text/plain": [
              "<Figure size 640x480 with 1 Axes>"
            ],
            "image/png": "[encoded data removed]"
          },
          "metadata": {}
        },
        {
          "output_type": "display_data",
          "data": {
            "text/plain": [
              "<Figure size 640x480 with 1 Axes>"
            ],
            "image/png": "[encoded data removed]"
          },
          "metadata": {}
        },
        {
          "output_type": "display_data",
          "data": {
            "text/plain": [
              "<Figure size 640x480 with 1 Axes>"
            ],
            "image/png": "[encoded data removed]"
          },
          "metadata": {}
        },
        {
          "output_type": "display_data",
          "data": {
            "text/plain": [
              "<Figure size 640x480 with 1 Axes>"
            ],
            "image/png": "[encoded data removed]"
          },
          "metadata": {}
        },
        {
          "output_type": "display_data",
          "data": {
            "text/plain": [
              "<Figure size 640x480 with 1 Axes>"
            ],
            "image/png": "[encoded data removed]"
          },
          "metadata": {}
        }
      ],
      "source": [
        "def predict_images(model, images, k=5):\n",
        "    probs = model.predict(images, verbose=0)\n",
        "    topk_idx = np.argsort(-probs, axis=1)[:, :k]\n",
        "    topk_prob = np.take_along_axis(probs, topk_idx, axis=1)\n",
        "    topk_labels = [[CIFAR100_LABELS[i] for i in row] for row in topk_idx]\n",
        "    return topk_labels, topk_prob\n",
        "\n",
        "labels, probs = predict_images(model, x_test[:5])\n",
        "\n",
        "for i in range(5):\n",
        "    plt.imshow(x_test[i])\n",
        "    plt.axis(\"off\")\n",
        "    plt.title(f\"Pred: {labels[i][0]} / {labels[i][1]} / {labels[i][2]}\")\n",
        "    plt.show()"
      ]
    },
    {
      "cell_type": "markdown",
      "id": "2882ae54",
      "metadata": {
        "id": "2882ae54"
      },
      "source": [
        "## 💾 Save Model"
      ]
    },
    {
      "cell_type": "code",
      "execution_count": 16,
      "id": "4d0750c0",
      "metadata": {
        "colab": {
          "base_uri": "https://localhost:8080/"
        },
        "id": "4d0750c0",
        "outputId": "9687094e-32b7-4146-d99e-4c88ff3614dc"
      },
      "outputs": [
        {
          "output_type": "stream",
          "name": "stdout",
          "text": [
            "✅ Model saved: final_cifar100_cnn.keras\n"
          ]
        }
      ],
      "source": [
        "model.save(\"final_cifar100_cnn.keras\")\n",
        "print(\"✅ Model saved: final_cifar100_cnn.keras\")"
      ]
    },
    {
      "cell_type": "markdown",
      "id": "709adaf8",
      "metadata": {
        "id": "709adaf8"
      },
      "source": [
        "# 🚀 Advanced: Transfer Learning, Regularization, Optimizers, and Tuning\n",
        "\n",
        "This section adds:\n",
        "- **Pretrained backbones** (EfficientNetV2B0, ResNet50) for transfer learning\n",
        "- **L2 regularization** on the classifier (and optionally conv blocks)\n",
        "- **AdamW / SGD+Momentum** optimizers\n",
        "- **(Optional)** Hyperparameter tuning via **Keras Tuner** or **Optuna**"
      ]
    },
    {
      "cell_type": "code",
      "source": [
        "CONFIG.update({\n",
        "    \"model_type\": \"efficientnetv2b0\",   # or \"resnet50\"\n",
        "    \"backbone_input\": (224, 224),       # <-- NEW: size the backbone expects\n",
        "    \"freeze_epochs\": 5,\n",
        "    \"finetune_epochs\": 25,\n",
        "})\n",
        "print(CONFIG[\"model_type\"], CONFIG.get(\"backbone_input\"))"
      ],
      "metadata": {
        "colab": {
          "base_uri": "https://localhost:8080/"
        },
        "id": "WuGUSLk2JcYZ",
        "outputId": "b70556e7-ff47-454c-ad4c-fa1b0c0fc887"
      },
      "id": "WuGUSLk2JcYZ",
      "execution_count": 47,
      "outputs": [
        {
          "output_type": "stream",
          "name": "stdout",
          "text": [
            "efficientnetv2b0 (224, 224)\n"
          ]
        }
      ]
    },
    {
      "cell_type": "markdown",
      "source": [
        "## Build transfer model"
      ],
      "metadata": {
        "id": "tV-pBB5PJr8I"
      },
      "id": "tV-pBB5PJr8I"
    },
    {
      "cell_type": "code",
      "source": [
        "# ============================================================\n",
        "# Build Transfer Learning Model with resize to backbone size\n",
        "# ============================================================\n",
        "def build_transfer_model(cfg=CONFIG):\n",
        "    input_shape = cfg[\"input_shape\"]             # (32, 32, 3)\n",
        "    num_classes = cfg[\"num_classes\"]\n",
        "    bb_h, bb_w = cfg.get(\"backbone_input\", (224, 224))  # <-- default 224x224\n",
        "    reg = regularizers.l2(cfg[\"l2\"]) if cfg[\"l2\"] and cfg[\"l2\"] > 0 else None\n",
        "\n",
        "    mt = cfg[\"model_type\"].lower()\n",
        "    if mt == \"resnet50\":\n",
        "        base = tf.keras.applications.ResNet50(include_top=False,\n",
        "                                              weights=\"imagenet\",\n",
        "                                              input_shape=(bb_h, bb_w, 3))\n",
        "        def preprocess(x):\n",
        "            return tf.keras.applications.resnet50.preprocess_input(x * 255.0)\n",
        "\n",
        "    elif mt == \"efficientnetv2b0\":\n",
        "        base = tf.keras.applications.EfficientNetV2B0(include_top=False,\n",
        "                                                      weights=\"imagenet\",\n",
        "                                                      input_shape=(bb_h, bb_w, 3))\n",
        "        def preprocess(x):\n",
        "            return tf.keras.applications.efficientnet_v2.preprocess_input(x * 255.0)\n",
        "\n",
        "    else:\n",
        "        # Fallback: your small CNN\n",
        "        return build_model(num_classes=num_classes, input_shape=input_shape, cfg=cfg), None\n",
        "\n",
        "    inputs = layers.Input(shape=input_shape)\n",
        "    # Augment at native 32x32\n",
        "    x = data_augmentation(inputs)\n",
        "    # 🔼 Upsample to backbone’s native size, then preprocess\n",
        "    x = layers.Resizing(bb_h, bb_w, interpolation=\"bilinear\", name=\"resize_to_backbone\")(x)\n",
        "    x = preprocess(x)\n",
        "    # Backbone (no training=False → BN behaves correctly)\n",
        "    x = base(x)\n",
        "    x = layers.GlobalAveragePooling2D()(x)\n",
        "    x = layers.Dropout(cfg[\"dropout\"])(x)\n",
        "    outputs = layers.Dense(num_classes, activation=\"softmax\", kernel_regularizer=reg)(x)\n",
        "\n",
        "    model = models.Model(inputs, outputs, name=f\"tl_{cfg['model_type']}\")\n",
        "    return model, base\n"
      ],
      "metadata": {
        "id": "Uh2Wp8dZJfu2"
      },
      "id": "Uh2Wp8dZJfu2",
      "execution_count": 48,
      "outputs": []
    },
    {
      "cell_type": "markdown",
      "source": [
        "## Optimizer + compile (unified)"
      ],
      "metadata": {
        "id": "1UuyIkpRJnjK"
      },
      "id": "1UuyIkpRJnjK"
    },
    {
      "cell_type": "code",
      "source": [
        "opt_name = CONFIG[\"optimizer\"].lower()\n",
        "lr = CONFIG[\"learning_rate\"]\n",
        "\n",
        "if opt_name == \"adamw\":\n",
        "    try:\n",
        "        opt = tf.keras.optimizers.AdamW(learning_rate=lr, weight_decay=CONFIG[\"weight_decay\"])\n",
        "    except Exception:\n",
        "        opt = tf.keras.optimizers.experimental.AdamW(learning_rate=lr, weight_decay=CONFIG[\"weight_decay\"])\n",
        "elif opt_name == \"sgd\":\n",
        "    opt = tf.keras.optimizers.SGD(learning_rate=lr, momentum=CONFIG[\"momentum\"], nesterov=True)\n",
        "else:\n",
        "    opt = tf.keras.optimizers.Adam(learning_rate=lr)\n",
        "\n",
        "model_tl, base_model = build_transfer_model(CONFIG)\n",
        "model_tl.compile(\n",
        "    optimizer=opt,\n",
        "    loss=\"categorical_crossentropy\",\n",
        "    metrics=[tf.keras.metrics.CategoricalAccuracy(name=\"acc\"),\n",
        "             tf.keras.metrics.TopKCategoricalAccuracy(k=5, name=\"top5\")]\n",
        ")\n",
        "model_tl.summary()"
      ],
      "metadata": {
        "colab": {
          "base_uri": "https://localhost:8080/",
          "height": 425
        },
        "id": "NHCOHKGzJkoU",
        "outputId": "2723ba7d-f821-412d-9f78-7883a94c400a"
      },
      "id": "NHCOHKGzJkoU",
      "execution_count": 49,
      "outputs": [
        {
          "output_type": "display_data",
          "data": {
            "text/plain": [
              "\u001b[1mModel: \"tl_efficientnetv2b0\"\u001b[0m\n"
            ],
            "text/html": [
              "<pre style=\"white-space:pre;overflow-x:auto;line-height:normal;font-family:Menlo,'DejaVu Sans Mono',consolas,'Courier New',monospace\"><span style=\"font-weight: bold\">Model: \"tl_efficientnetv2b0\"</span>\n",
              "</pre>\n"
            ]
          },
          "metadata": {}
        },
        {
          "output_type": "display_data",
          "data": {
            "text/plain": [
              "┏━━━━━━━━━━━━━━━━━━━━━━━━━━━━━━━━━┳━━━━━━━━━━━━━━━━━━━━━━━━┳━━━━━━━━━━━━━━━┓\n",
              "┃\u001b[1m \u001b[0m\u001b[1mLayer (type)                   \u001b[0m\u001b[1m \u001b[0m┃\u001b[1m \u001b[0m\u001b[1mOutput Shape          \u001b[0m\u001b[1m \u001b[0m┃\u001b[1m \u001b[0m\u001b[1m      Param #\u001b[0m\u001b[1m \u001b[0m┃\n",
              "┡━━━━━━━━━━━━━━━━━━━━━━━━━━━━━━━━━╇━━━━━━━━━━━━━━━━━━━━━━━━╇━━━━━━━━━━━━━━━┩\n",
              "│ input_layer_14 (\u001b[38;5;33mInputLayer\u001b[0m)     │ (\u001b[38;5;45mNone\u001b[0m, \u001b[38;5;34m32\u001b[0m, \u001b[38;5;34m32\u001b[0m, \u001b[38;5;34m3\u001b[0m)      │             \u001b[38;5;34m0\u001b[0m │\n",
              "├─────────────────────────────────┼────────────────────────┼───────────────┤\n",
              "│ data_augmentation (\u001b[38;5;33mSequential\u001b[0m)  │ (\u001b[38;5;45mNone\u001b[0m, \u001b[38;5;34m32\u001b[0m, \u001b[38;5;34m32\u001b[0m, \u001b[38;5;34m3\u001b[0m)      │             \u001b[38;5;34m0\u001b[0m │\n",
              "├─────────────────────────────────┼────────────────────────┼───────────────┤\n",
              "│ resize_to_backbone (\u001b[38;5;33mResizing\u001b[0m)   │ (\u001b[38;5;45mNone\u001b[0m, \u001b[38;5;34m224\u001b[0m, \u001b[38;5;34m224\u001b[0m, \u001b[38;5;34m3\u001b[0m)    │             \u001b[38;5;34m0\u001b[0m │\n",
              "├─────────────────────────────────┼────────────────────────┼───────────────┤\n",
              "│ multiply_3 (\u001b[38;5;33mMultiply\u001b[0m)           │ (\u001b[38;5;45mNone\u001b[0m, \u001b[38;5;34m224\u001b[0m, \u001b[38;5;34m224\u001b[0m, \u001b[38;5;34m3\u001b[0m)    │             \u001b[38;5;34m0\u001b[0m │\n",
              "├─────────────────────────────────┼────────────────────────┼───────────────┤\n",
              "│ efficientnetv2-b0 (\u001b[38;5;33mFunctional\u001b[0m)  │ (\u001b[38;5;45mNone\u001b[0m, \u001b[38;5;34m7\u001b[0m, \u001b[38;5;34m7\u001b[0m, \u001b[38;5;34m1280\u001b[0m)     │     \u001b[38;5;34m5,919,312\u001b[0m │\n",
              "├─────────────────────────────────┼────────────────────────┼───────────────┤\n",
              "│ global_average_pooling2d_5      │ (\u001b[38;5;45mNone\u001b[0m, \u001b[38;5;34m1280\u001b[0m)           │             \u001b[38;5;34m0\u001b[0m │\n",
              "│ (\u001b[38;5;33mGlobalAveragePooling2D\u001b[0m)        │                        │               │\n",
              "├─────────────────────────────────┼────────────────────────┼───────────────┤\n",
              "│ dropout_13 (\u001b[38;5;33mDropout\u001b[0m)            │ (\u001b[38;5;45mNone\u001b[0m, \u001b[38;5;34m1280\u001b[0m)           │             \u001b[38;5;34m0\u001b[0m │\n",
              "├─────────────────────────────────┼────────────────────────┼───────────────┤\n",
              "│ dense_9 (\u001b[38;5;33mDense\u001b[0m)                 │ (\u001b[38;5;45mNone\u001b[0m, \u001b[38;5;34m100\u001b[0m)            │       \u001b[38;5;34m128,100\u001b[0m │\n",
              "└─────────────────────────────────┴────────────────────────┴───────────────┘\n"
            ],
            "text/html": [
              "<pre style=\"white-space:pre;overflow-x:auto;line-height:normal;font-family:Menlo,'DejaVu Sans Mono',consolas,'Courier New',monospace\">┏━━━━━━━━━━━━━━━━━━━━━━━━━━━━━━━━━┳━━━━━━━━━━━━━━━━━━━━━━━━┳━━━━━━━━━━━━━━━┓\n",
              "┃<span style=\"font-weight: bold\"> Layer (type)                    </span>┃<span style=\"font-weight: bold\"> Output Shape           </span>┃<span style=\"font-weight: bold\">       Param # </span>┃\n",
              "┡━━━━━━━━━━━━━━━━━━━━━━━━━━━━━━━━━╇━━━━━━━━━━━━━━━━━━━━━━━━╇━━━━━━━━━━━━━━━┩\n",
              "│ input_layer_14 (<span style=\"color: #0087ff; text-decoration-color: #0087ff\">InputLayer</span>)     │ (<span style=\"color: #00d7ff; text-decoration-color: #00d7ff\">None</span>, <span style=\"color: #00af00; text-decoration-color: #00af00\">32</span>, <span style=\"color: #00af00; text-decoration-color: #00af00\">32</span>, <span style=\"color: #00af00; text-decoration-color: #00af00\">3</span>)      │             <span style=\"color: #00af00; text-decoration-color: #00af00\">0</span> │\n",
              "├─────────────────────────────────┼────────────────────────┼───────────────┤\n",
              "│ data_augmentation (<span style=\"color: #0087ff; text-decoration-color: #0087ff\">Sequential</span>)  │ (<span style=\"color: #00d7ff; text-decoration-color: #00d7ff\">None</span>, <span style=\"color: #00af00; text-decoration-color: #00af00\">32</span>, <span style=\"color: #00af00; text-decoration-color: #00af00\">32</span>, <span style=\"color: #00af00; text-decoration-color: #00af00\">3</span>)      │             <span style=\"color: #00af00; text-decoration-color: #00af00\">0</span> │\n",
              "├─────────────────────────────────┼────────────────────────┼───────────────┤\n",
              "│ resize_to_backbone (<span style=\"color: #0087ff; text-decoration-color: #0087ff\">Resizing</span>)   │ (<span style=\"color: #00d7ff; text-decoration-color: #00d7ff\">None</span>, <span style=\"color: #00af00; text-decoration-color: #00af00\">224</span>, <span style=\"color: #00af00; text-decoration-color: #00af00\">224</span>, <span style=\"color: #00af00; text-decoration-color: #00af00\">3</span>)    │             <span style=\"color: #00af00; text-decoration-color: #00af00\">0</span> │\n",
              "├─────────────────────────────────┼────────────────────────┼───────────────┤\n",
              "│ multiply_3 (<span style=\"color: #0087ff; text-decoration-color: #0087ff\">Multiply</span>)           │ (<span style=\"color: #00d7ff; text-decoration-color: #00d7ff\">None</span>, <span style=\"color: #00af00; text-decoration-color: #00af00\">224</span>, <span style=\"color: #00af00; text-decoration-color: #00af00\">224</span>, <span style=\"color: #00af00; text-decoration-color: #00af00\">3</span>)    │             <span style=\"color: #00af00; text-decoration-color: #00af00\">0</span> │\n",
              "├─────────────────────────────────┼────────────────────────┼───────────────┤\n",
              "│ efficientnetv2-b0 (<span style=\"color: #0087ff; text-decoration-color: #0087ff\">Functional</span>)  │ (<span style=\"color: #00d7ff; text-decoration-color: #00d7ff\">None</span>, <span style=\"color: #00af00; text-decoration-color: #00af00\">7</span>, <span style=\"color: #00af00; text-decoration-color: #00af00\">7</span>, <span style=\"color: #00af00; text-decoration-color: #00af00\">1280</span>)     │     <span style=\"color: #00af00; text-decoration-color: #00af00\">5,919,312</span> │\n",
              "├─────────────────────────────────┼────────────────────────┼───────────────┤\n",
              "│ global_average_pooling2d_5      │ (<span style=\"color: #00d7ff; text-decoration-color: #00d7ff\">None</span>, <span style=\"color: #00af00; text-decoration-color: #00af00\">1280</span>)           │             <span style=\"color: #00af00; text-decoration-color: #00af00\">0</span> │\n",
              "│ (<span style=\"color: #0087ff; text-decoration-color: #0087ff\">GlobalAveragePooling2D</span>)        │                        │               │\n",
              "├─────────────────────────────────┼────────────────────────┼───────────────┤\n",
              "│ dropout_13 (<span style=\"color: #0087ff; text-decoration-color: #0087ff\">Dropout</span>)            │ (<span style=\"color: #00d7ff; text-decoration-color: #00d7ff\">None</span>, <span style=\"color: #00af00; text-decoration-color: #00af00\">1280</span>)           │             <span style=\"color: #00af00; text-decoration-color: #00af00\">0</span> │\n",
              "├─────────────────────────────────┼────────────────────────┼───────────────┤\n",
              "│ dense_9 (<span style=\"color: #0087ff; text-decoration-color: #0087ff\">Dense</span>)                 │ (<span style=\"color: #00d7ff; text-decoration-color: #00d7ff\">None</span>, <span style=\"color: #00af00; text-decoration-color: #00af00\">100</span>)            │       <span style=\"color: #00af00; text-decoration-color: #00af00\">128,100</span> │\n",
              "└─────────────────────────────────┴────────────────────────┴───────────────┘\n",
              "</pre>\n"
            ]
          },
          "metadata": {}
        },
        {
          "output_type": "display_data",
          "data": {
            "text/plain": [
              "\u001b[1m Total params: \u001b[0m\u001b[38;5;34m6,047,412\u001b[0m (23.07 MB)\n"
            ],
            "text/html": [
              "<pre style=\"white-space:pre;overflow-x:auto;line-height:normal;font-family:Menlo,'DejaVu Sans Mono',consolas,'Courier New',monospace\"><span style=\"font-weight: bold\"> Total params: </span><span style=\"color: #00af00; text-decoration-color: #00af00\">6,047,412</span> (23.07 MB)\n",
              "</pre>\n"
            ]
          },
          "metadata": {}
        },
        {
          "output_type": "display_data",
          "data": {
            "text/plain": [
              "\u001b[1m Trainable params: \u001b[0m\u001b[38;5;34m5,986,804\u001b[0m (22.84 MB)\n"
            ],
            "text/html": [
              "<pre style=\"white-space:pre;overflow-x:auto;line-height:normal;font-family:Menlo,'DejaVu Sans Mono',consolas,'Courier New',monospace\"><span style=\"font-weight: bold\"> Trainable params: </span><span style=\"color: #00af00; text-decoration-color: #00af00\">5,986,804</span> (22.84 MB)\n",
              "</pre>\n"
            ]
          },
          "metadata": {}
        },
        {
          "output_type": "display_data",
          "data": {
            "text/plain": [
              "\u001b[1m Non-trainable params: \u001b[0m\u001b[38;5;34m60,608\u001b[0m (236.75 KB)\n"
            ],
            "text/html": [
              "<pre style=\"white-space:pre;overflow-x:auto;line-height:normal;font-family:Menlo,'DejaVu Sans Mono',consolas,'Courier New',monospace\"><span style=\"font-weight: bold\"> Non-trainable params: </span><span style=\"color: #00af00; text-decoration-color: #00af00\">60,608</span> (236.75 KB)\n",
              "</pre>\n"
            ]
          },
          "metadata": {}
        }
      ]
    },
    {
      "cell_type": "markdown",
      "source": [
        "## Train: Stage-1 (frozen) → Stage-2 (partial unfreeze + lower LR)"
      ],
      "metadata": {
        "id": "mKH_UncaWw5Q"
      },
      "id": "mKH_UncaWw5Q"
    },
    {
      "cell_type": "code",
      "source": [
        "# ============================================================\n",
        "# Stage 1 (frozen) + Stage 2 (partial unfreeze with lower LR)\n",
        "# ============================================================\n",
        "if base_model is not None:\n",
        "    # Stage 1\n",
        "    base_model.trainable = False\n",
        "    hist_frozen = model_tl.fit(\n",
        "        x_train, y_train,\n",
        "        epochs=CONFIG[\"freeze_epochs\"],\n",
        "        batch_size=CONFIG[\"batch_size\"],\n",
        "        validation_split=0.1,\n",
        "        callbacks=cbs,\n",
        "        verbose=2\n",
        "    )\n",
        "\n",
        "    # Stage 2\n",
        "    base_model.trainable = True\n",
        "    for layer in base_model.layers[:-20]:\n",
        "        layer.trainable = False\n",
        "\n",
        "    # Recompile with smaller LR for fine-tuning\n",
        "    model_tl.compile(\n",
        "        optimizer=tf.keras.optimizers.Adam(learning_rate=1e-4),\n",
        "        loss=\"categorical_crossentropy\",\n",
        "        metrics=[tf.keras.metrics.CategoricalAccuracy(name=\"acc\"),\n",
        "                 tf.keras.metrics.TopKCategoricalAccuracy(k=5, name=\"top5\")]\n",
        "    )\n",
        "\n",
        "    hist_ft = model_tl.fit(\n",
        "        x_train, y_train,\n",
        "        epochs=CONFIG[\"finetune_epochs\"],\n",
        "        batch_size=CONFIG[\"batch_size\"],\n",
        "        validation_split=0.1,\n",
        "        callbacks=cbs,\n",
        "        verbose=2\n",
        "    )\n",
        "else:\n",
        "    print(\"model_type='cnn' → training CNN instead.\")\n",
        "    hist_cnn = model_tl.fit(\n",
        "        x_train, y_train,\n",
        "        epochs=CONFIG[\"epochs\"],\n",
        "        batch_size=CONFIG[\"batch_size\"],\n",
        "        validation_split=0.1,\n",
        "        callbacks=cbs,\n",
        "        verbose=2\n",
        "    )"
      ],
      "metadata": {
        "colab": {
          "base_uri": "https://localhost:8080/"
        },
        "id": "JxxnGA0vR9CQ",
        "outputId": "99e1f4b0-3ea0-4786-f078-174333052bbe"
      },
      "id": "JxxnGA0vR9CQ",
      "execution_count": 50,
      "outputs": [
        {
          "output_type": "stream",
          "name": "stdout",
          "text": [
            "Epoch 1/5\n",
            "\n",
            "Epoch 1: val_acc improved from 0.44260 to 0.63560, saving model to best_cifar100_cnn.keras\n",
            "352/352 - 32s - 90ms/step - acc: 0.3877 - loss: 2.5940 - top5: 0.6823 - val_acc: 0.6356 - val_loss: 1.4229 - val_top5: 0.8894 - learning_rate: 1.0000e-03\n",
            "Epoch 2/5\n",
            "\n",
            "Epoch 2: val_acc improved from 0.63560 to 0.67260, saving model to best_cifar100_cnn.keras\n",
            "352/352 - 15s - 42ms/step - acc: 0.5331 - loss: 1.8229 - top5: 0.8216 - val_acc: 0.6726 - val_loss: 1.2333 - val_top5: 0.9090 - learning_rate: 1.0000e-03\n",
            "Epoch 3/5\n",
            "\n",
            "Epoch 3: val_acc improved from 0.67260 to 0.68920, saving model to best_cifar100_cnn.keras\n",
            "352/352 - 15s - 42ms/step - acc: 0.5629 - loss: 1.6791 - top5: 0.8436 - val_acc: 0.6892 - val_loss: 1.1693 - val_top5: 0.9186 - learning_rate: 1.0000e-03\n",
            "Epoch 4/5\n",
            "\n",
            "Epoch 4: val_acc improved from 0.68920 to 0.69700, saving model to best_cifar100_cnn.keras\n",
            "352/352 - 15s - 42ms/step - acc: 0.5810 - loss: 1.6133 - top5: 0.8523 - val_acc: 0.6970 - val_loss: 1.1419 - val_top5: 0.9226 - learning_rate: 1.0000e-03\n",
            "Epoch 5/5\n",
            "\n",
            "Epoch 5: val_acc improved from 0.69700 to 0.70160, saving model to best_cifar100_cnn.keras\n",
            "352/352 - 15s - 42ms/step - acc: 0.5927 - loss: 1.5721 - top5: 0.8588 - val_acc: 0.7016 - val_loss: 1.1252 - val_top5: 0.9238 - learning_rate: 1.0000e-03\n",
            "Restoring model weights from the end of the best epoch: 5.\n",
            "Epoch 1/25\n",
            "\n",
            "Epoch 1: val_acc improved from 0.70160 to 0.71760, saving model to best_cifar100_cnn.keras\n",
            "352/352 - 33s - 94ms/step - acc: 0.6123 - loss: 1.5120 - top5: 0.8742 - val_acc: 0.7176 - val_loss: 1.0706 - val_top5: 0.9314 - learning_rate: 1.0000e-04\n",
            "Epoch 2/25\n",
            "\n",
            "Epoch 2: val_acc improved from 0.71760 to 0.72720, saving model to best_cifar100_cnn.keras\n",
            "352/352 - 17s - 48ms/step - acc: 0.6386 - loss: 1.3889 - top5: 0.8908 - val_acc: 0.7272 - val_loss: 1.0245 - val_top5: 0.9372 - learning_rate: 1.0000e-04\n",
            "Epoch 3/25\n",
            "\n",
            "Epoch 3: val_acc improved from 0.72720 to 0.73120, saving model to best_cifar100_cnn.keras\n",
            "352/352 - 17s - 48ms/step - acc: 0.6491 - loss: 1.3292 - top5: 0.8982 - val_acc: 0.7312 - val_loss: 0.9987 - val_top5: 0.9418 - learning_rate: 1.0000e-04\n",
            "Epoch 4/25\n",
            "\n",
            "Epoch 4: val_acc improved from 0.73120 to 0.73980, saving model to best_cifar100_cnn.keras\n",
            "352/352 - 17s - 48ms/step - acc: 0.6601 - loss: 1.2851 - top5: 0.9054 - val_acc: 0.7398 - val_loss: 0.9776 - val_top5: 0.9428 - learning_rate: 1.0000e-04\n",
            "Epoch 5/25\n",
            "\n",
            "Epoch 5: val_acc improved from 0.73980 to 0.74380, saving model to best_cifar100_cnn.keras\n",
            "352/352 - 17s - 48ms/step - acc: 0.6656 - loss: 1.2544 - top5: 0.9096 - val_acc: 0.7438 - val_loss: 0.9645 - val_top5: 0.9414 - learning_rate: 1.0000e-04\n",
            "Epoch 6/25\n",
            "\n",
            "Epoch 6: val_acc improved from 0.74380 to 0.74700, saving model to best_cifar100_cnn.keras\n",
            "352/352 - 17s - 49ms/step - acc: 0.6762 - loss: 1.2118 - top5: 0.9142 - val_acc: 0.7470 - val_loss: 0.9510 - val_top5: 0.9452 - learning_rate: 1.0000e-04\n",
            "Epoch 7/25\n",
            "\n",
            "Epoch 7: val_acc improved from 0.74700 to 0.75100, saving model to best_cifar100_cnn.keras\n",
            "352/352 - 17s - 49ms/step - acc: 0.6840 - loss: 1.1897 - top5: 0.9181 - val_acc: 0.7510 - val_loss: 0.9406 - val_top5: 0.9464 - learning_rate: 1.0000e-04\n",
            "Epoch 8/25\n",
            "\n",
            "Epoch 8: val_acc improved from 0.75100 to 0.75220, saving model to best_cifar100_cnn.keras\n",
            "352/352 - 18s - 52ms/step - acc: 0.6891 - loss: 1.1668 - top5: 0.9191 - val_acc: 0.7522 - val_loss: 0.9276 - val_top5: 0.9472 - learning_rate: 1.0000e-04\n",
            "Epoch 9/25\n",
            "\n",
            "Epoch 9: val_acc improved from 0.75220 to 0.75760, saving model to best_cifar100_cnn.keras\n",
            "352/352 - 17s - 49ms/step - acc: 0.6972 - loss: 1.1292 - top5: 0.9259 - val_acc: 0.7576 - val_loss: 0.9175 - val_top5: 0.9492 - learning_rate: 1.0000e-04\n",
            "Epoch 10/25\n",
            "\n",
            "Epoch 10: val_acc did not improve from 0.75760\n",
            "352/352 - 16s - 46ms/step - acc: 0.7014 - loss: 1.1125 - top5: 0.9274 - val_acc: 0.7564 - val_loss: 0.9113 - val_top5: 0.9498 - learning_rate: 1.0000e-04\n",
            "Epoch 11/25\n",
            "\n",
            "Epoch 11: val_acc improved from 0.75760 to 0.75980, saving model to best_cifar100_cnn.keras\n",
            "352/352 - 17s - 48ms/step - acc: 0.7083 - loss: 1.0918 - top5: 0.9283 - val_acc: 0.7598 - val_loss: 0.9036 - val_top5: 0.9506 - learning_rate: 1.0000e-04\n",
            "Epoch 12/25\n",
            "\n",
            "Epoch 12: val_acc improved from 0.75980 to 0.76100, saving model to best_cifar100_cnn.keras\n",
            "352/352 - 17s - 48ms/step - acc: 0.7139 - loss: 1.0686 - top5: 0.9322 - val_acc: 0.7610 - val_loss: 0.8987 - val_top5: 0.9508 - learning_rate: 1.0000e-04\n",
            "Epoch 13/25\n",
            "\n",
            "Epoch 13: val_acc improved from 0.76100 to 0.76480, saving model to best_cifar100_cnn.keras\n",
            "352/352 - 17s - 49ms/step - acc: 0.7177 - loss: 1.0524 - top5: 0.9347 - val_acc: 0.7648 - val_loss: 0.8938 - val_top5: 0.9506 - learning_rate: 1.0000e-04\n",
            "Epoch 14/25\n",
            "\n",
            "Epoch 14: val_acc did not improve from 0.76480\n",
            "352/352 - 17s - 48ms/step - acc: 0.7239 - loss: 1.0260 - top5: 0.9365 - val_acc: 0.7638 - val_loss: 0.8898 - val_top5: 0.9516 - learning_rate: 1.0000e-04\n",
            "Epoch 15/25\n",
            "\n",
            "Epoch 15: val_acc improved from 0.76480 to 0.76820, saving model to best_cifar100_cnn.keras\n",
            "352/352 - 18s - 50ms/step - acc: 0.7252 - loss: 1.0127 - top5: 0.9406 - val_acc: 0.7682 - val_loss: 0.8840 - val_top5: 0.9512 - learning_rate: 1.0000e-04\n",
            "Epoch 16/25\n",
            "\n",
            "Epoch 16: val_acc did not improve from 0.76820\n",
            "352/352 - 17s - 48ms/step - acc: 0.7345 - loss: 0.9865 - top5: 0.9421 - val_acc: 0.7648 - val_loss: 0.8810 - val_top5: 0.9514 - learning_rate: 1.0000e-04\n",
            "Epoch 17/25\n",
            "\n",
            "Epoch 17: val_acc did not improve from 0.76820\n",
            "352/352 - 17s - 48ms/step - acc: 0.7368 - loss: 0.9817 - top5: 0.9422 - val_acc: 0.7662 - val_loss: 0.8780 - val_top5: 0.9524 - learning_rate: 1.0000e-04\n",
            "Epoch 18/25\n",
            "\n",
            "Epoch 18: val_acc improved from 0.76820 to 0.77000, saving model to best_cifar100_cnn.keras\n",
            "352/352 - 17s - 50ms/step - acc: 0.7407 - loss: 0.9656 - top5: 0.9449 - val_acc: 0.7700 - val_loss: 0.8752 - val_top5: 0.9518 - learning_rate: 1.0000e-04\n",
            "Epoch 19/25\n",
            "\n",
            "Epoch 19: val_acc did not improve from 0.77000\n",
            "352/352 - 17s - 48ms/step - acc: 0.7434 - loss: 0.9498 - top5: 0.9472 - val_acc: 0.7678 - val_loss: 0.8718 - val_top5: 0.9536 - learning_rate: 1.0000e-04\n",
            "Epoch 20/25\n",
            "\n",
            "Epoch 20: val_acc did not improve from 0.77000\n",
            "352/352 - 17s - 48ms/step - acc: 0.7491 - loss: 0.9380 - top5: 0.9485 - val_acc: 0.7692 - val_loss: 0.8680 - val_top5: 0.9536 - learning_rate: 1.0000e-04\n",
            "Epoch 21/25\n",
            "\n",
            "Epoch 21: val_acc did not improve from 0.77000\n",
            "352/352 - 17s - 48ms/step - acc: 0.7510 - loss: 0.9215 - top5: 0.9505 - val_acc: 0.7688 - val_loss: 0.8659 - val_top5: 0.9550 - learning_rate: 1.0000e-04\n",
            "Epoch 22/25\n",
            "\n",
            "Epoch 22: val_acc did not improve from 0.77000\n",
            "352/352 - 17s - 48ms/step - acc: 0.7573 - loss: 0.9025 - top5: 0.9503 - val_acc: 0.7700 - val_loss: 0.8612 - val_top5: 0.9554 - learning_rate: 1.0000e-04\n",
            "Epoch 23/25\n",
            "\n",
            "Epoch 23: val_acc improved from 0.77000 to 0.77640, saving model to best_cifar100_cnn.keras\n",
            "352/352 - 17s - 49ms/step - acc: 0.7644 - loss: 0.8852 - top5: 0.9525 - val_acc: 0.7764 - val_loss: 0.8590 - val_top5: 0.9554 - learning_rate: 1.0000e-04\n",
            "Epoch 24/25\n",
            "\n",
            "Epoch 24: val_acc did not improve from 0.77640\n",
            "352/352 - 16s - 47ms/step - acc: 0.7678 - loss: 0.8680 - top5: 0.9552 - val_acc: 0.7748 - val_loss: 0.8561 - val_top5: 0.9550 - learning_rate: 1.0000e-04\n",
            "Epoch 25/25\n",
            "\n",
            "Epoch 25: val_acc did not improve from 0.77640\n",
            "352/352 - 16s - 46ms/step - acc: 0.7703 - loss: 0.8637 - top5: 0.9546 - val_acc: 0.7764 - val_loss: 0.8571 - val_top5: 0.9554 - learning_rate: 1.0000e-04\n",
            "Restoring model weights from the end of the best epoch: 24.\n"
          ]
        }
      ]
    },
    {
      "cell_type": "markdown",
      "source": [
        "## Evaluate + save"
      ],
      "metadata": {
        "id": "Xgm7EFkOKAnb"
      },
      "id": "Xgm7EFkOKAnb"
    },
    {
      "cell_type": "code",
      "source": [
        "tl_metrics = model_tl.evaluate(x_test, y_test, return_dict=True, verbose=0)\n",
        "print(\"Transfer learning metrics:\")\n",
        "print(json.dumps(tl_metrics, indent=2))\n",
        "\n",
        "model_tl.save(f\"final_{CONFIG['model_type']}.keras\")\n",
        "print(f\"✅ Saved: final_{CONFIG['model_type']}.keras\")"
      ],
      "metadata": {
        "colab": {
          "base_uri": "https://localhost:8080/"
        },
        "id": "HHKmU7XJKFL9",
        "outputId": "68250e78-0347-4364-de59-76aab8715110"
      },
      "id": "HHKmU7XJKFL9",
      "execution_count": 51,
      "outputs": [
        {
          "output_type": "stream",
          "name": "stdout",
          "text": [
            "Transfer learning metrics:\n",
            "{\n",
            "  \"acc\": 0.7824000120162964,\n",
            "  \"loss\": 0.8010790944099426,\n",
            "  \"top5\": 0.9593999981880188\n",
            "}\n",
            "✅ Saved: final_efficientnetv2b0.keras\n"
          ]
        }
      ]
    },
    {
      "cell_type": "markdown",
      "source": [
        "## Save config, labels, and metrics"
      ],
      "metadata": {
        "id": "hKQQtu3LZwac"
      },
      "id": "hKQQtu3LZwac"
    },
    {
      "cell_type": "code",
      "source": [
        "import json, os, numpy as np\n",
        "from pathlib import Path\n",
        "\n",
        "ARTIFACTS_DIR = Path(\"results\"); ARTIFACTS_DIR.mkdir(exist_ok=True)\n",
        "\n",
        "# Save the CONFIG you trained with\n",
        "with open(ARTIFACTS_DIR/\"config.json\", \"w\") as f:\n",
        "    json.dump(CONFIG, f, indent=2)\n",
        "\n",
        "# Save CIFAR-100 class names\n",
        "with open(ARTIFACTS_DIR/\"labels.txt\", \"w\") as f:\n",
        "    for name in CIFAR100_LABELS: f.write(f\"{name}\\n\")\n",
        "\n",
        "# Save the TL evaluation you just printed\n",
        "with open(ARTIFACTS_DIR/\"metrics_transfer.json\", \"w\") as f:\n",
        "    json.dump(tl_metrics, f, indent=2)\n",
        "\n",
        "print(\"Saved: results/config.json, results/labels.txt, results/metrics_transfer.json\")"
      ],
      "metadata": {
        "colab": {
          "base_uri": "https://localhost:8080/"
        },
        "id": "NpsMWehjZ2IT",
        "outputId": "9f9135e6-3504-42c8-e4db-77ac9f04d2bd"
      },
      "id": "NpsMWehjZ2IT",
      "execution_count": 52,
      "outputs": [
        {
          "output_type": "stream",
          "name": "stdout",
          "text": [
            "Saved: results/config.json, results/labels.txt, results/metrics_transfer.json\n"
          ]
        }
      ]
    },
    {
      "cell_type": "markdown",
      "source": [
        "## (Optional, recommended) Confusion matrix + per-class report"
      ],
      "metadata": {
        "id": "FWlIrO5FZ6ym"
      },
      "id": "FWlIrO5FZ6ym"
    },
    {
      "cell_type": "code",
      "source": [
        "import numpy as np, matplotlib.pyplot as plt\n",
        "from sklearn.metrics import classification_report, confusion_matrix\n",
        "\n",
        "y_true = np.argmax(y_test, axis=1)\n",
        "y_prob = model_tl.predict(x_test, batch_size=256, verbose=0)\n",
        "y_pred = np.argmax(y_prob, axis=1)\n",
        "\n",
        "(Path(\"results\")/\"classification_report.txt\").write_text(\n",
        "    classification_report(y_true, y_pred, digits=3, target_names=[str(i) for i in range(100)])\n",
        ")\n",
        "\n",
        "cm = confusion_matrix(y_true, y_pred, labels=range(100)).astype(\"float\")\n",
        "cm /= cm.sum(axis=1, keepdims=True)\n",
        "plt.figure(figsize=(10,8))\n",
        "plt.imshow(cm, interpolation=\"nearest\", aspect=\"auto\")\n",
        "plt.title(\"CIFAR-100 Confusion Matrix (normalized)\")\n",
        "plt.xlabel(\"Predicted\"); plt.ylabel(\"True\"); plt.colorbar(fraction=0.046, pad=0.04)\n",
        "plt.tight_layout(); plt.savefig(\"results/confusion_matrix.png\", dpi=180); plt.close()\n",
        "\n",
        "print(\"Saved: results/classification_report.txt, results/confusion_matrix.png\")"
      ],
      "metadata": {
        "colab": {
          "base_uri": "https://localhost:8080/"
        },
        "id": "GBJRib4qZ8KL",
        "outputId": "eb2d6567-504e-4745-c1d0-4fb1040aeaf9"
      },
      "id": "GBJRib4qZ8KL",
      "execution_count": 53,
      "outputs": [
        {
          "output_type": "stream",
          "name": "stdout",
          "text": [
            "Saved: results/classification_report.txt, results/confusion_matrix.png\n"
          ]
        }
      ]
    },
    {
      "cell_type": "markdown",
      "source": [
        "## (Optional) Save baseline CNN metrics too"
      ],
      "metadata": {
        "id": "5Qv2yZdcaAF8"
      },
      "id": "5Qv2yZdcaAF8"
    },
    {
      "cell_type": "code",
      "source": [
        "with open(\"results/metrics_cnn.json\", \"w\") as f:\n",
        "    json.dump(test_metrics, f, indent=2)\n",
        "print(\"Saved: results/metrics_cnn.json\")"
      ],
      "metadata": {
        "colab": {
          "base_uri": "https://localhost:8080/"
        },
        "id": "iK6mE8ywaC1U",
        "outputId": "39893fae-7b0b-41b1-f4bd-b41b30579501"
      },
      "id": "iK6mE8ywaC1U",
      "execution_count": 54,
      "outputs": [
        {
          "output_type": "stream",
          "name": "stdout",
          "text": [
            "Saved: results/metrics_cnn.json\n"
          ]
        }
      ]
    }
  ],
  "metadata": {
    "colab": {
      "provenance": [],
      "gpuType": "A100"
    },
    "language_info": {
      "name": "python"
    },
    "kernelspec": {
      "name": "python3",
      "display_name": "Python 3"
    },
    "accelerator": "GPU"
  },
  "nbformat": 4,
  "nbformat_minor": 5
}